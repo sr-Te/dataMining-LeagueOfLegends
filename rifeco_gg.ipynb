{
 "metadata": {
  "language_info": {
   "codemirror_mode": {
    "name": "ipython",
    "version": 3
   },
   "file_extension": ".py",
   "mimetype": "text/x-python",
   "name": "python",
   "nbconvert_exporter": "python",
   "pygments_lexer": "ipython3",
   "version": "3.9.5"
  },
  "orig_nbformat": 2,
  "kernelspec": {
   "name": "python3",
   "display_name": "Python 3.9.5 64-bit"
  },
  "metadata": {
   "interpreter": {
    "hash": "aee8b7b246df8f9039afb4144a1f6fd8d2ca17a180786b69acc140d282b71a49"
   }
  },
  "interpreter": {
   "hash": "aee8b7b246df8f9039afb4144a1f6fd8d2ca17a180786b69acc140d282b71a49"
  }
 },
 "nbformat": 4,
 "nbformat_minor": 2,
 "cells": [
  {
   "cell_type": "code",
   "execution_count": 1,
   "metadata": {},
   "outputs": [],
   "source": [
    "from riotwatcher import LolWatcher, ApiError\n",
    "import pandas as pd\n",
    "\n",
    "API_KEY = 'RGAPI-8451d9b1-4ee5-4a02-a8ae-da4dfee0aa7d'"
   ]
  },
  {
   "cell_type": "code",
   "execution_count": 2,
   "metadata": {},
   "outputs": [
    {
     "output_type": "stream",
     "name": "stdout",
     "text": [
      "{'id': 'lWi5HaaehFeaGAfBcTt0rC1ZwbGADdfzMufodzqWLxti', 'accountId': '7GCep_kNbjnlDwUs_YzG2m72hscya8h4mONfTirSuY4', 'puuid': 'Tbchv-3XdognbbbeZmtdB-bWEEu4dFuug9aq1lc1vJIDWtcZOv4YHP6a5CnfHO8yqUgR3KMACSt0FA', 'name': 'srTe', 'profileIconId': 3379, 'revisionDate': 1622756022000, 'summonerLevel': 165}\n"
     ]
    }
   ],
   "source": [
    "my_region = 'la2'\n",
    "lol_watcher = LolWatcher(API_KEY)\n",
    "me = lol_watcher.summoner.by_name(my_region, 'srTe')\n",
    "print(me)"
   ]
  },
  {
   "cell_type": "code",
   "execution_count": 5,
   "metadata": {
    "tags": []
   },
   "outputs": [
    {
     "output_type": "stream",
     "name": "stdout",
     "text": [
      "[{'leagueId': '889fff5e-4a8d-4d1f-ad95-ff0e3ce46ea5', 'queueType': 'RANKED_FLEX_SR', 'tier': 'SILVER', 'rank': 'I', 'summonerId': 'lWi5HaaehFeaGAfBcTt0rC1ZwbGADdfzMufodzqWLxti', 'summonerName': 'srTe', 'leaguePoints': 37, 'wins': 37, 'losses': 32, 'veteran': False, 'inactive': False, 'freshBlood': False, 'hotStreak': False}]\n",
      "{'platformId': 'LA2', 'gameId': 995676246, 'champion': 119, 'queue': 400, 'season': 13, 'timestamp': 1615251140065, 'role': 'DUO', 'lane': 'MID'}\n",
      "100\n"
     ]
    }
   ],
   "source": [
    "my_ranked_stats = lol_watcher.league.by_summoner(my_region, me['id'])\n",
    "print(my_ranked_stats)\n",
    "\n",
    "my_matches = lol_watcher.match.matchlist_by_account(my_region, me['accountId'])\n",
    "last_match = my_matches['matches'][99]\n",
    "match_detail = lol_watcher.match.by_id(my_region, last_match['gameId'])\n",
    "print(last_match)\n",
    "print(len(my_matches['matches']))"
   ]
  },
  {
   "cell_type": "code",
   "execution_count": 7,
   "metadata": {},
   "outputs": [
    {
     "output_type": "execute_result",
     "data": {
      "text/plain": [
       "   champion  spell1  spell2    win  kills  assists  deaths  totalDamageDealt  \\\n",
       "0        33       4      32  False      5       16      14             31566   \n",
       "1       429       3       4  False      6        9      12             80396   \n",
       "2       876      32       4  False      7       10      16             53722   \n",
       "3       202      21       4  False      9       10      12             89089   \n",
       "4       517       4      14  False      5       12      13             34428   \n",
       "5        42      21       4   True     24       26       6             97800   \n",
       "6         9       4      14   True     22       28       8             60065   \n",
       "7       117       4      14   True      6       44       5             13109   \n",
       "8        53      21       4   True      1       24       7             36972   \n",
       "9        10      13       4   True     14       35       6             69355   \n",
       "\n",
       "   goldEarned  champLevel  totalMinionsKilled  item0  item1  \n",
       "0       11825          18                  19   3111   3067  \n",
       "1       13811          17                  71   3153   3072  \n",
       "2       12815          16                  41   6653   3157  \n",
       "3       13281          18                  61   6676   6671  \n",
       "4       12108          17                  20   3111   6656  \n",
       "5       16748          18                  52   3042   3508  \n",
       "6       16094          18                  39   3157   6653  \n",
       "7       12921          18                   8   6617   3070  \n",
       "8       11445          18                  28   6656   3158  \n",
       "9       15141          18                  61   6672   3153  "
      ],
      "text/html": "<div>\n<style scoped>\n    .dataframe tbody tr th:only-of-type {\n        vertical-align: middle;\n    }\n\n    .dataframe tbody tr th {\n        vertical-align: top;\n    }\n\n    .dataframe thead th {\n        text-align: right;\n    }\n</style>\n<table border=\"1\" class=\"dataframe\">\n  <thead>\n    <tr style=\"text-align: right;\">\n      <th></th>\n      <th>champion</th>\n      <th>spell1</th>\n      <th>spell2</th>\n      <th>win</th>\n      <th>kills</th>\n      <th>assists</th>\n      <th>deaths</th>\n      <th>totalDamageDealt</th>\n      <th>goldEarned</th>\n      <th>champLevel</th>\n      <th>totalMinionsKilled</th>\n      <th>item0</th>\n      <th>item1</th>\n    </tr>\n  </thead>\n  <tbody>\n    <tr>\n      <th>0</th>\n      <td>33</td>\n      <td>4</td>\n      <td>32</td>\n      <td>False</td>\n      <td>5</td>\n      <td>16</td>\n      <td>14</td>\n      <td>31566</td>\n      <td>11825</td>\n      <td>18</td>\n      <td>19</td>\n      <td>3111</td>\n      <td>3067</td>\n    </tr>\n    <tr>\n      <th>1</th>\n      <td>429</td>\n      <td>3</td>\n      <td>4</td>\n      <td>False</td>\n      <td>6</td>\n      <td>9</td>\n      <td>12</td>\n      <td>80396</td>\n      <td>13811</td>\n      <td>17</td>\n      <td>71</td>\n      <td>3153</td>\n      <td>3072</td>\n    </tr>\n    <tr>\n      <th>2</th>\n      <td>876</td>\n      <td>32</td>\n      <td>4</td>\n      <td>False</td>\n      <td>7</td>\n      <td>10</td>\n      <td>16</td>\n      <td>53722</td>\n      <td>12815</td>\n      <td>16</td>\n      <td>41</td>\n      <td>6653</td>\n      <td>3157</td>\n    </tr>\n    <tr>\n      <th>3</th>\n      <td>202</td>\n      <td>21</td>\n      <td>4</td>\n      <td>False</td>\n      <td>9</td>\n      <td>10</td>\n      <td>12</td>\n      <td>89089</td>\n      <td>13281</td>\n      <td>18</td>\n      <td>61</td>\n      <td>6676</td>\n      <td>6671</td>\n    </tr>\n    <tr>\n      <th>4</th>\n      <td>517</td>\n      <td>4</td>\n      <td>14</td>\n      <td>False</td>\n      <td>5</td>\n      <td>12</td>\n      <td>13</td>\n      <td>34428</td>\n      <td>12108</td>\n      <td>17</td>\n      <td>20</td>\n      <td>3111</td>\n      <td>6656</td>\n    </tr>\n    <tr>\n      <th>5</th>\n      <td>42</td>\n      <td>21</td>\n      <td>4</td>\n      <td>True</td>\n      <td>24</td>\n      <td>26</td>\n      <td>6</td>\n      <td>97800</td>\n      <td>16748</td>\n      <td>18</td>\n      <td>52</td>\n      <td>3042</td>\n      <td>3508</td>\n    </tr>\n    <tr>\n      <th>6</th>\n      <td>9</td>\n      <td>4</td>\n      <td>14</td>\n      <td>True</td>\n      <td>22</td>\n      <td>28</td>\n      <td>8</td>\n      <td>60065</td>\n      <td>16094</td>\n      <td>18</td>\n      <td>39</td>\n      <td>3157</td>\n      <td>6653</td>\n    </tr>\n    <tr>\n      <th>7</th>\n      <td>117</td>\n      <td>4</td>\n      <td>14</td>\n      <td>True</td>\n      <td>6</td>\n      <td>44</td>\n      <td>5</td>\n      <td>13109</td>\n      <td>12921</td>\n      <td>18</td>\n      <td>8</td>\n      <td>6617</td>\n      <td>3070</td>\n    </tr>\n    <tr>\n      <th>8</th>\n      <td>53</td>\n      <td>21</td>\n      <td>4</td>\n      <td>True</td>\n      <td>1</td>\n      <td>24</td>\n      <td>7</td>\n      <td>36972</td>\n      <td>11445</td>\n      <td>18</td>\n      <td>28</td>\n      <td>6656</td>\n      <td>3158</td>\n    </tr>\n    <tr>\n      <th>9</th>\n      <td>10</td>\n      <td>13</td>\n      <td>4</td>\n      <td>True</td>\n      <td>14</td>\n      <td>35</td>\n      <td>6</td>\n      <td>69355</td>\n      <td>15141</td>\n      <td>18</td>\n      <td>61</td>\n      <td>6672</td>\n      <td>3153</td>\n    </tr>\n  </tbody>\n</table>\n</div>"
     },
     "metadata": {},
     "execution_count": 7
    }
   ],
   "source": [
    "participants = []\n",
    "for row in match_detail['participants']:\n",
    "    participants_row = {}\n",
    "    participants_row['champion'] = row['championId']\n",
    "    participants_row['spell1'] = row['spell1Id']\n",
    "    participants_row['spell2'] = row['spell2Id']\n",
    "    participants_row['win'] = row['stats']['win']\n",
    "    participants_row['kills'] = row['stats']['kills']\n",
    "    participants_row['assists'] = row['stats']['assists']\n",
    "    participants_row['deaths'] = row['stats']['deaths']\n",
    "    participants_row['totalDamageDealt'] = row['stats']['totalDamageDealt']\n",
    "    participants_row['goldEarned'] = row['stats']['goldEarned']\n",
    "    participants_row['champLevel'] = row['stats']['champLevel']\n",
    "    participants_row['totalMinionsKilled'] = row['stats']['totalMinionsKilled']\n",
    "    participants_row['item0'] = row['stats']['item0']\n",
    "    participants_row['item1'] = row['stats']['item1']\n",
    "    participants.append(participants_row)\n",
    "df = pd.DataFrame(participants)\n",
    "df"
   ]
  },
  {
   "cell_type": "code",
   "execution_count": null,
   "metadata": {},
   "outputs": [],
   "source": []
  }
 ]
}