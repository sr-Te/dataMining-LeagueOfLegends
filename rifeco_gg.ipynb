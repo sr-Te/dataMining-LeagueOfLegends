{
 "metadata": {
  "language_info": {
   "codemirror_mode": {
    "name": "ipython",
    "version": 3
   },
   "file_extension": ".py",
   "mimetype": "text/x-python",
   "name": "python",
   "nbconvert_exporter": "python",
   "pygments_lexer": "ipython3",
   "version": "3.9.5"
  },
  "orig_nbformat": 2,
  "kernelspec": {
   "name": "python3",
   "display_name": "Python 3.9.5 64-bit"
  },
  "metadata": {
   "interpreter": {
    "hash": "aee8b7b246df8f9039afb4144a1f6fd8d2ca17a180786b69acc140d282b71a49"
   }
  },
  "interpreter": {
   "hash": "aee8b7b246df8f9039afb4144a1f6fd8d2ca17a180786b69acc140d282b71a49"
  }
 },
 "nbformat": 4,
 "nbformat_minor": 2,
 "cells": [
  {
   "cell_type": "code",
   "execution_count": 1,
   "metadata": {},
   "outputs": [],
   "source": [
    "from riotwatcher import LolWatcher, ApiError\n",
    "import pandas as pd\n",
    "\n",
    "API_KEY = 'RGAPI-172c38e7-4f3e-49d8-a49b-cbb4f31ed835'"
   ]
  },
  {
   "cell_type": "code",
   "execution_count": 2,
   "metadata": {},
   "outputs": [
    {
     "output_type": "stream",
     "name": "stdout",
     "text": [
      "{'id': 'lWi5HaaehFeaGAfBcTt0rC1ZwbGADdfzMufodzqWLxti', 'accountId': '7GCep_kNbjnlDwUs_YzG2m72hscya8h4mONfTirSuY4', 'puuid': 'Tbchv-3XdognbbbeZmtdB-bWEEu4dFuug9aq1lc1vJIDWtcZOv4YHP6a5CnfHO8yqUgR3KMACSt0FA', 'name': 'srTe', 'profileIconId': 3379, 'revisionDate': 1624221080000, 'summonerLevel': 166}\n"
     ]
    }
   ],
   "source": [
    "my_region = 'la2'\n",
    "lol_watcher = LolWatcher(API_KEY)\n",
    "me = lol_watcher.summoner.by_name(my_region, 'srTe')\n",
    "print(me)"
   ]
  },
  {
   "cell_type": "code",
   "execution_count": 3,
   "metadata": {
    "tags": []
   },
   "outputs": [
    {
     "output_type": "stream",
     "name": "stdout",
     "text": [
      "[{'leagueId': '889fff5e-4a8d-4d1f-ad95-ff0e3ce46ea5', 'queueType': 'RANKED_FLEX_SR', 'tier': 'SILVER', 'rank': 'I', 'summonerId': 'lWi5HaaehFeaGAfBcTt0rC1ZwbGADdfzMufodzqWLxti', 'summonerName': 'srTe', 'leaguePoints': 57, 'wins': 39, 'losses': 33, 'veteran': False, 'inactive': False, 'freshBlood': False, 'hotStreak': False}]\n",
      "{'platformId': 'LA2', 'gameId': 998522688, 'champion': 412, 'queue': 400, 'season': 13, 'timestamp': 1615769763714, 'role': 'DUO_SUPPORT', 'lane': 'BOTTOM'}\n",
      "100\n"
     ]
    }
   ],
   "source": [
    "my_ranked_stats = lol_watcher.league.by_summoner(my_region, me['id'])\n",
    "print(my_ranked_stats)\n",
    "\n",
    "my_matches = lol_watcher.match.matchlist_by_account(my_region, me['accountId'])\n",
    "last_match = my_matches['matches'][99]\n",
    "match_detail = lol_watcher.match.by_id(my_region, last_match['gameId'])\n",
    "print(last_match)\n",
    "print(len(my_matches['matches']))"
   ]
  },
  {
   "cell_type": "code",
   "execution_count": 4,
   "metadata": {},
   "outputs": [
    {
     "output_type": "execute_result",
     "data": {
      "text/plain": [
       "   champion  spell1  spell2    win  kills  assists  deaths  totalDamageDealt  \\\n",
       "0         4       4      14   True      5       12       9            134923   \n",
       "1        75       4      12   True      2        8       9             98960   \n",
       "2       412       3       4   True      3       14       5             27955   \n",
       "3       222       4       7   True     19       13       5            262395   \n",
       "4       121      11       4   True     12       11       4            202997   \n",
       "5       157      14       4  False      8       10       9            191299   \n",
       "6       876       4      11  False      9       12       9            231296   \n",
       "7        21       7       4  False      2        6       9             96681   \n",
       "8        63       4      14  False      5       10      10             86155   \n",
       "9        98       4      12  False      8       11       4            117863   \n",
       "\n",
       "   goldEarned  champLevel  totalMinionsKilled  item0  item1  \n",
       "0       12278          16                 159   3916   3152  \n",
       "1       10218          15                 134   1054   6632  \n",
       "2        9186          14                  39   3190   3105  \n",
       "3       19492          18                 255   3072   3006  \n",
       "4       15375          16                  29   6691   3111  \n",
       "5       15615          17                 190   1054   6673  \n",
       "6       14778          17                  60   3157   3165  \n",
       "7       10198          15                 132   1055   6671  \n",
       "8       10666          16                  50   3853   6653  \n",
       "9       13042          18                 179      0   3065  "
      ],
      "text/html": "<div>\n<style scoped>\n    .dataframe tbody tr th:only-of-type {\n        vertical-align: middle;\n    }\n\n    .dataframe tbody tr th {\n        vertical-align: top;\n    }\n\n    .dataframe thead th {\n        text-align: right;\n    }\n</style>\n<table border=\"1\" class=\"dataframe\">\n  <thead>\n    <tr style=\"text-align: right;\">\n      <th></th>\n      <th>champion</th>\n      <th>spell1</th>\n      <th>spell2</th>\n      <th>win</th>\n      <th>kills</th>\n      <th>assists</th>\n      <th>deaths</th>\n      <th>totalDamageDealt</th>\n      <th>goldEarned</th>\n      <th>champLevel</th>\n      <th>totalMinionsKilled</th>\n      <th>item0</th>\n      <th>item1</th>\n    </tr>\n  </thead>\n  <tbody>\n    <tr>\n      <th>0</th>\n      <td>4</td>\n      <td>4</td>\n      <td>14</td>\n      <td>True</td>\n      <td>5</td>\n      <td>12</td>\n      <td>9</td>\n      <td>134923</td>\n      <td>12278</td>\n      <td>16</td>\n      <td>159</td>\n      <td>3916</td>\n      <td>3152</td>\n    </tr>\n    <tr>\n      <th>1</th>\n      <td>75</td>\n      <td>4</td>\n      <td>12</td>\n      <td>True</td>\n      <td>2</td>\n      <td>8</td>\n      <td>9</td>\n      <td>98960</td>\n      <td>10218</td>\n      <td>15</td>\n      <td>134</td>\n      <td>1054</td>\n      <td>6632</td>\n    </tr>\n    <tr>\n      <th>2</th>\n      <td>412</td>\n      <td>3</td>\n      <td>4</td>\n      <td>True</td>\n      <td>3</td>\n      <td>14</td>\n      <td>5</td>\n      <td>27955</td>\n      <td>9186</td>\n      <td>14</td>\n      <td>39</td>\n      <td>3190</td>\n      <td>3105</td>\n    </tr>\n    <tr>\n      <th>3</th>\n      <td>222</td>\n      <td>4</td>\n      <td>7</td>\n      <td>True</td>\n      <td>19</td>\n      <td>13</td>\n      <td>5</td>\n      <td>262395</td>\n      <td>19492</td>\n      <td>18</td>\n      <td>255</td>\n      <td>3072</td>\n      <td>3006</td>\n    </tr>\n    <tr>\n      <th>4</th>\n      <td>121</td>\n      <td>11</td>\n      <td>4</td>\n      <td>True</td>\n      <td>12</td>\n      <td>11</td>\n      <td>4</td>\n      <td>202997</td>\n      <td>15375</td>\n      <td>16</td>\n      <td>29</td>\n      <td>6691</td>\n      <td>3111</td>\n    </tr>\n    <tr>\n      <th>5</th>\n      <td>157</td>\n      <td>14</td>\n      <td>4</td>\n      <td>False</td>\n      <td>8</td>\n      <td>10</td>\n      <td>9</td>\n      <td>191299</td>\n      <td>15615</td>\n      <td>17</td>\n      <td>190</td>\n      <td>1054</td>\n      <td>6673</td>\n    </tr>\n    <tr>\n      <th>6</th>\n      <td>876</td>\n      <td>4</td>\n      <td>11</td>\n      <td>False</td>\n      <td>9</td>\n      <td>12</td>\n      <td>9</td>\n      <td>231296</td>\n      <td>14778</td>\n      <td>17</td>\n      <td>60</td>\n      <td>3157</td>\n      <td>3165</td>\n    </tr>\n    <tr>\n      <th>7</th>\n      <td>21</td>\n      <td>7</td>\n      <td>4</td>\n      <td>False</td>\n      <td>2</td>\n      <td>6</td>\n      <td>9</td>\n      <td>96681</td>\n      <td>10198</td>\n      <td>15</td>\n      <td>132</td>\n      <td>1055</td>\n      <td>6671</td>\n    </tr>\n    <tr>\n      <th>8</th>\n      <td>63</td>\n      <td>4</td>\n      <td>14</td>\n      <td>False</td>\n      <td>5</td>\n      <td>10</td>\n      <td>10</td>\n      <td>86155</td>\n      <td>10666</td>\n      <td>16</td>\n      <td>50</td>\n      <td>3853</td>\n      <td>6653</td>\n    </tr>\n    <tr>\n      <th>9</th>\n      <td>98</td>\n      <td>4</td>\n      <td>12</td>\n      <td>False</td>\n      <td>8</td>\n      <td>11</td>\n      <td>4</td>\n      <td>117863</td>\n      <td>13042</td>\n      <td>18</td>\n      <td>179</td>\n      <td>0</td>\n      <td>3065</td>\n    </tr>\n  </tbody>\n</table>\n</div>"
     },
     "metadata": {},
     "execution_count": 4
    }
   ],
   "source": [
    "participants = []\n",
    "for row in match_detail['participants']:\n",
    "    participants_row = {}\n",
    "    participants_row['champion'] = row['championId']\n",
    "    participants_row['spell1'] = row['spell1Id']\n",
    "    participants_row['spell2'] = row['spell2Id']\n",
    "    participants_row['win'] = row['stats']['win']\n",
    "    participants_row['kills'] = row['stats']['kills']\n",
    "    participants_row['assists'] = row['stats']['assists']\n",
    "    participants_row['deaths'] = row['stats']['deaths']\n",
    "    participants_row['totalDamageDealt'] = row['stats']['totalDamageDealt']\n",
    "    participants_row['goldEarned'] = row['stats']['goldEarned']\n",
    "    participants_row['champLevel'] = row['stats']['champLevel']\n",
    "    participants_row['totalMinionsKilled'] = row['stats']['totalMinionsKilled']\n",
    "    participants_row['item0'] = row['stats']['item0']\n",
    "    participants_row['item1'] = row['stats']['item1']\n",
    "    participants.append(participants_row)\n",
    "df = pd.DataFrame(participants)\n",
    "df"
   ]
  },
  {
   "cell_type": "code",
   "execution_count": null,
   "metadata": {},
   "outputs": [],
   "source": []
  }
 ]
}