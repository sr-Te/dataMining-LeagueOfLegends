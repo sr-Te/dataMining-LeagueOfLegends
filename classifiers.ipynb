{
 "cells": [
  {
   "cell_type": "markdown",
   "source": [
    "In this kernel, we have implemented a multi-class decision tree algorithm to classify diseases using the annotation files. These contain information on the number of crackles and wheezes in each recording. \n",
    "\n",
    "We first start with rearding the patient diagnosis and demographic info files."
   ],
   "metadata": {}
  },
  {
   "cell_type": "code",
   "execution_count": 20,
   "source": [
    "# Import libraries\r\n",
    "import numpy as np\r\n",
    "import pandas as pd\r\n",
    "import matplotlib.pyplot as plt\r\n"
   ],
   "outputs": [],
   "metadata": {
    "_cell_guid": "79c7e3d0-c299-4dcb-8224-4455121ee9b0",
    "_uuid": "d629ff2d2480ee46fbb7e2d37f6b5fab8052498a"
   }
  },
  {
   "cell_type": "code",
   "execution_count": 21,
   "source": [
    "# Reading the data\r\n",
    "# df = pd.read_csv('la2_rankIIIonly_extended.csv')\r\n",
    "df = pd.read_csv('csv/la2_50matchs.csv')\r\n",
    "df.info()"
   ],
   "outputs": [
    {
     "output_type": "stream",
     "name": "stdout",
     "text": [
      "<class 'pandas.core.frame.DataFrame'>\n",
      "RangeIndex: 118292 entries, 0 to 118291\n",
      "Data columns (total 48 columns):\n",
      " #   Column                       Non-Null Count   Dtype \n",
      "---  ------                       --------------   ----- \n",
      " 0   gameId                       118292 non-null  int64 \n",
      " 1   region                       118292 non-null  object\n",
      " 2   summonerName                 118292 non-null  object\n",
      " 3   tier                         118292 non-null  object\n",
      " 4   rank                         118292 non-null  object\n",
      " 5   tierRank                     118292 non-null  object\n",
      " 6   wins                         118292 non-null  int64 \n",
      " 7   losses                       118292 non-null  int64 \n",
      " 8   win                          118292 non-null  bool  \n",
      " 9   lane                         118292 non-null  object\n",
      " 10  role                         118292 non-null  object\n",
      " 11  championId                   118292 non-null  int64 \n",
      " 12  spell1Id                     118292 non-null  int64 \n",
      " 13  spell2Id                     118292 non-null  int64 \n",
      " 14  kills                        118292 non-null  int64 \n",
      " 15  deaths                       118292 non-null  int64 \n",
      " 16  assists                      118292 non-null  int64 \n",
      " 17  largestKillingSpree          118292 non-null  int64 \n",
      " 18  largestMultiKill             118292 non-null  int64 \n",
      " 19  killingSprees                118292 non-null  int64 \n",
      " 20  longestTimeSpentLiving       118292 non-null  int64 \n",
      " 21  doubleKills                  118292 non-null  int64 \n",
      " 22  tripleKills                  118292 non-null  int64 \n",
      " 23  quadraKills                  118292 non-null  int64 \n",
      " 24  pentaKills                   118292 non-null  int64 \n",
      " 25  totalDamageDealt             118292 non-null  int64 \n",
      " 26  totalDamageDealtToChampions  118292 non-null  int64 \n",
      " 27  totalHeal                    118292 non-null  int64 \n",
      " 28  totalUnitsHealed             118292 non-null  int64 \n",
      " 29  damageDealtToObjectives      118292 non-null  int64 \n",
      " 30  timeCCingOthers              118292 non-null  int64 \n",
      " 31  totalDamageTaken             118292 non-null  int64 \n",
      " 32  totalMinionsKilled           118292 non-null  int64 \n",
      " 33  goldEarned                   118292 non-null  int64 \n",
      " 34  goldSpent                    118292 non-null  int64 \n",
      " 35  visionScore                  118292 non-null  int64 \n",
      " 36  team-firstBlood              118292 non-null  bool  \n",
      " 37  team-firstTower              118292 non-null  bool  \n",
      " 38  team-firstInhibitor          118292 non-null  bool  \n",
      " 39  team-firstBaron              118292 non-null  bool  \n",
      " 40  team-firstDragon             118292 non-null  bool  \n",
      " 41  team-firstRiftHerald         118292 non-null  bool  \n",
      " 42  team-towerKills              118292 non-null  int64 \n",
      " 43  team-inhibitorKills          118292 non-null  int64 \n",
      " 44  team-baronKills              118292 non-null  int64 \n",
      " 45  team-dragonKills             118292 non-null  int64 \n",
      " 46  team-vilemawKills            118292 non-null  int64 \n",
      " 47  team-riftHeraldKills         118292 non-null  int64 \n",
      "dtypes: bool(7), int64(34), object(7)\n",
      "memory usage: 37.8+ MB\n"
     ]
    }
   ],
   "metadata": {}
  },
  {
   "cell_type": "markdown",
   "source": [
    "# Handling Missing Data for Decision Tree Analysis"
   ],
   "metadata": {}
  },
  {
   "cell_type": "code",
   "execution_count": 22,
   "source": [
    "# Review missing data\r\n",
    "print(df.isnull().sum())"
   ],
   "outputs": [
    {
     "output_type": "stream",
     "name": "stdout",
     "text": [
      "gameId                         0\n",
      "region                         0\n",
      "summonerName                   0\n",
      "tier                           0\n",
      "rank                           0\n",
      "tierRank                       0\n",
      "wins                           0\n",
      "losses                         0\n",
      "win                            0\n",
      "lane                           0\n",
      "role                           0\n",
      "championId                     0\n",
      "spell1Id                       0\n",
      "spell2Id                       0\n",
      "kills                          0\n",
      "deaths                         0\n",
      "assists                        0\n",
      "largestKillingSpree            0\n",
      "largestMultiKill               0\n",
      "killingSprees                  0\n",
      "longestTimeSpentLiving         0\n",
      "doubleKills                    0\n",
      "tripleKills                    0\n",
      "quadraKills                    0\n",
      "pentaKills                     0\n",
      "totalDamageDealt               0\n",
      "totalDamageDealtToChampions    0\n",
      "totalHeal                      0\n",
      "totalUnitsHealed               0\n",
      "damageDealtToObjectives        0\n",
      "timeCCingOthers                0\n",
      "totalDamageTaken               0\n",
      "totalMinionsKilled             0\n",
      "goldEarned                     0\n",
      "goldSpent                      0\n",
      "visionScore                    0\n",
      "team-firstBlood                0\n",
      "team-firstTower                0\n",
      "team-firstInhibitor            0\n",
      "team-firstBaron                0\n",
      "team-firstDragon               0\n",
      "team-firstRiftHerald           0\n",
      "team-towerKills                0\n",
      "team-inhibitorKills            0\n",
      "team-baronKills                0\n",
      "team-dragonKills               0\n",
      "team-vilemawKills              0\n",
      "team-riftHeraldKills           0\n",
      "dtype: int64\n"
     ]
    }
   ],
   "metadata": {}
  },
  {
   "cell_type": "code",
   "execution_count": 23,
   "source": [
    "# Eliminate rows with missing values\r\n",
    "df.dropna(inplace=True)"
   ],
   "outputs": [],
   "metadata": {}
  },
  {
   "cell_type": "markdown",
   "source": [
    "# Multi-class Decision Tree"
   ],
   "metadata": {}
  },
  {
   "cell_type": "code",
   "execution_count": 24,
   "source": [
    "print(df.head())"
   ],
   "outputs": [
    {
     "output_type": "stream",
     "name": "stdout",
     "text": [
      "      gameId region   summonerName  tier rank tierRank  wins  losses    win  \\\n",
      "0  987611666    la2  PaposDelCente  IRON   II  IRON-II     9      14   True   \n",
      "1  987496231    la2  PaposDelCente  IRON   II  IRON-II     9      14   True   \n",
      "2  987388412    la2  PaposDelCente  IRON   II  IRON-II     9      14  False   \n",
      "3  987365543    la2  PaposDelCente  IRON   II  IRON-II     9      14   True   \n",
      "4  987362729    la2  PaposDelCente  IRON   II  IRON-II     9      14  False   \n",
      "\n",
      "     lane  ... team-firstInhibitor  team-firstBaron  team-firstDragon  \\\n",
      "0     TOP  ...                True            False             False   \n",
      "1  MIDDLE  ...                True            False              True   \n",
      "2  JUNGLE  ...               False            False              True   \n",
      "3    NONE  ...               False            False              True   \n",
      "4  JUNGLE  ...               False            False             False   \n",
      "\n",
      "   team-firstRiftHerald  team-towerKills  team-inhibitorKills  \\\n",
      "0                 False                4                    2   \n",
      "1                  True                7                    2   \n",
      "2                 False                2                    0   \n",
      "3                 False                2                    0   \n",
      "4                 False                1                    0   \n",
      "\n",
      "   team-baronKills  team-dragonKills  team-vilemawKills  team-riftHeraldKills  \n",
      "0                0                 0                  0                     0  \n",
      "1                0                 3                  0                     2  \n",
      "2                0                 2                  0                     1  \n",
      "3                0                 2                  0                     0  \n",
      "4                0                 0                  0                     0  \n",
      "\n",
      "[5 rows x 48 columns]\n"
     ]
    }
   ],
   "metadata": {}
  },
  {
   "cell_type": "code",
   "execution_count": 25,
   "source": [
    "X = df.drop(['tier', 'rank', 'tierRank', 'region', 'summonerName', 'lane', 'role'], axis=1).values\r\n",
    "X_columns = df.drop(['tier', 'rank', 'tierRank', 'region', 'summonerName', 'lane', 'role'], axis=1).columns\r\n",
    "y = df[['tier']].to_numpy().ravel()"
   ],
   "outputs": [],
   "metadata": {}
  },
  {
   "cell_type": "code",
   "execution_count": 26,
   "source": [
    "# encoding categorical data e.g. tier as a dummy variable\r\n",
    "from sklearn.preprocessing import LabelEncoder\r\n",
    "labelencoder_X = LabelEncoder()\r\n",
    "X[:,1] = labelencoder_X.fit_transform(X[:,1])\r\n",
    "\r\n",
    "# encoding categorical data e.g. tier as a dummy variable\r\n",
    "y,class_names = pd.factorize(y)"
   ],
   "outputs": [],
   "metadata": {}
  },
  {
   "cell_type": "code",
   "execution_count": 27,
   "source": [
    "# Splitting the dataset into the Training set and Test set\r\n",
    "from sklearn.model_selection import train_test_split\r\n",
    "X_train, X_test, y_train, y_test = train_test_split(X, y, test_size = 0.25, stratify=y, random_state = 42)"
   ],
   "outputs": [],
   "metadata": {}
  },
  {
   "cell_type": "code",
   "execution_count": 28,
   "source": [
    "# Fitting Classifier to the Training Set\r\n",
    "from sklearn.tree import DecisionTreeClassifier\r\n",
    "classifier = DecisionTreeClassifier(criterion='gini', max_depth=27, random_state=42)\r\n",
    "classifier.fit(X_train, y_train)"
   ],
   "outputs": [
    {
     "output_type": "execute_result",
     "data": {
      "text/plain": [
       "DecisionTreeClassifier(max_depth=27, random_state=42)"
      ]
     },
     "metadata": {},
     "execution_count": 28
    }
   ],
   "metadata": {}
  },
  {
   "cell_type": "code",
   "execution_count": 29,
   "source": [
    "# Model performance on training set\r\n",
    "y_pred_train =classifier.predict(X_train)\r\n",
    "\r\n",
    "from sklearn import metrics\r\n",
    "from sklearn.metrics import confusion_matrix, classification_report\r\n",
    "\r\n",
    "accuracy = metrics.accuracy_score(y_train, y_pred_train)\r\n",
    "print(\"Accuracy: {:.2f}\".format(accuracy))\r\n",
    "cm=confusion_matrix(y_train,y_pred_train)\r\n",
    "print('Confusion Matrix: \\n', cm)\r\n",
    "print(classification_report(y_train, y_pred_train, target_names=class_names))"
   ],
   "outputs": [
    {
     "output_type": "stream",
     "name": "stdout",
     "text": [
      "Accuracy: 1.00\n",
      "Confusion Matrix: \n",
      " [[14863     0     0     0     0     0]\n",
      " [    0 14755     1     0     1     0]\n",
      " [    0     0 14631     1     0     0]\n",
      " [    0     0     1 14883     1     0]\n",
      " [    0     1     0     1 14808     0]\n",
      " [    0     0     0     4     0 14768]]\n",
      "              precision    recall  f1-score   support\n",
      "\n",
      "        IRON       1.00      1.00      1.00     14863\n",
      "      BRONZE       1.00      1.00      1.00     14757\n",
      "      SILVER       1.00      1.00      1.00     14632\n",
      "        GOLD       1.00      1.00      1.00     14885\n",
      "    PLATINUM       1.00      1.00      1.00     14810\n",
      "     DIAMOND       1.00      1.00      1.00     14772\n",
      "\n",
      "    accuracy                           1.00     88719\n",
      "   macro avg       1.00      1.00      1.00     88719\n",
      "weighted avg       1.00      1.00      1.00     88719\n",
      "\n"
     ]
    }
   ],
   "metadata": {}
  },
  {
   "cell_type": "code",
   "execution_count": 30,
   "source": [
    "# Predicting the test results\r\n",
    "y_pred=classifier.predict(X_test)\r\n",
    "\r\n",
    "# Classification results on test set\r\n",
    "from sklearn import metrics\r\n",
    "accuracy = metrics.accuracy_score(y_test, y_pred)\r\n",
    "print(\"Accuracy: {:.2f}\".format(accuracy))\r\n",
    "\r\n",
    "from sklearn.metrics import confusion_matrix, classification_report\r\n",
    "cm=confusion_matrix(y_test,y_pred)\r\n",
    "print('Confusion Matrix: \\n', cm)\r\n",
    "print(classification_report(y_test, y_pred, target_names=class_names))"
   ],
   "outputs": [
    {
     "output_type": "stream",
     "name": "stdout",
     "text": [
      "Accuracy: 0.94\n",
      "Confusion Matrix: \n",
      " [[4572  206   92   52   31    1]\n",
      " [ 174 4490  110   57   73   15]\n",
      " [  96   95 4548   57   55   26]\n",
      " [  46   65   76 4686   41   48]\n",
      " [  35   78   66   49 4674   35]\n",
      " [   2   14   29   57   33 4789]]\n",
      "              precision    recall  f1-score   support\n",
      "\n",
      "        IRON       0.93      0.92      0.93      4954\n",
      "      BRONZE       0.91      0.91      0.91      4919\n",
      "      SILVER       0.92      0.93      0.93      4877\n",
      "        GOLD       0.95      0.94      0.94      4962\n",
      "    PLATINUM       0.95      0.95      0.95      4937\n",
      "     DIAMOND       0.97      0.97      0.97      4924\n",
      "\n",
      "    accuracy                           0.94     29573\n",
      "   macro avg       0.94      0.94      0.94     29573\n",
      "weighted avg       0.94      0.94      0.94     29573\n",
      "\n"
     ]
    }
   ],
   "metadata": {}
  },
  {
   "cell_type": "code",
   "execution_count": 31,
   "source": [
    "# # Visualize the tree by graphiz\r\n",
    "# import graphviz\r\n",
    "# from sklearn import tree\r\n",
    "# import os\r\n",
    "# os.environ[\"PATH\"] += os.pathsep + 'C:/Users/matia/anaconda3/Library/bin/graphviz/'\r\n",
    "# feature_names = X_columns\r\n",
    "# dot_data = tree.export_graphviz(classifier, out_file=None, filled=True, rounded = True, feature_names=feature_names, class_names=class_names)\r\n",
    "# graph = graphviz.Source(dot_data)\r\n",
    "# graph"
   ],
   "outputs": [],
   "metadata": {}
  },
  {
   "cell_type": "code",
   "execution_count": 32,
   "source": [
    "from matplotlib.colors import ListedColormap\r\n",
    "import time\r\n",
    "\r\n",
    "# for splitting data into training and testing\r\n",
    "from sklearn.model_selection import train_test_split\r\n",
    "\r\n",
    "# standardize features removing the mean and scaling to unit variance\r\n",
    "from sklearn.preprocessing import StandardScaler\r\n",
    "\r\n",
    "# multilayer perceptron classifier\r\n",
    "from sklearn.neural_network import MLPClassifier\r\n",
    "\r\n",
    "# K nearest neighbors classifier\r\n",
    "from sklearn.neighbors import KNeighborsClassifier\r\n",
    "\r\n",
    "# Support vector machine, C-support vector classifier\r\n",
    "from sklearn.svm import SVC\r\n",
    "\r\n",
    "# Gaussian process classifier\r\n",
    "from sklearn.gaussian_process import GaussianProcessClassifier\r\n",
    "\r\n",
    "# radial basis function kernel (squared exponential kernel)\r\n",
    "from sklearn.gaussian_process.kernels import RBF\r\n",
    "\r\n",
    "# Decision tree classifier\r\n",
    "from sklearn.tree import DecisionTreeClassifier\r\n",
    "\r\n",
    "# Ensemble classifiers: Random forest and AdaBoost\r\n",
    "from sklearn.ensemble import RandomForestClassifier, AdaBoostClassifier\r\n",
    "\r\n",
    "# Naive Bayes classifier\r\n",
    "from sklearn.naive_bayes import GaussianNB\r\n",
    "\r\n",
    "# Quadratic Discriminant Analysis classifier\r\n",
    "from sklearn.discriminant_analysis import QuadraticDiscriminantAnalysis\r\n",
    "\r\n",
    "from sklearn import metrics"
   ],
   "outputs": [],
   "metadata": {}
  },
  {
   "cell_type": "code",
   "execution_count": 40,
   "source": [
    "names = [\r\n",
    "            # \"Nearest Neighbors\",\r\n",
    "            # \"SVM Linear\",\r\n",
    "            # \"SVM rbf\",\r\n",
    "            # \"GP\",\r\n",
    "            \"RF\",\r\n",
    "            \"Neural Net\", \r\n",
    "            # \"AdaBoost\",\r\n",
    "            # \"Naive Bayes\",\r\n",
    "            # \"QDA\"\r\n",
    "        ]        \r\n",
    "        \r\n",
    "classifiers = [\r\n",
    "    # KNeighborsClassifier(500),\r\n",
    "    # SVC(kernel=\"linear\", C=0.03, probability = True),\r\n",
    "    # SVC(gamma=1.5, C=1, probability = True),\r\n",
    "    # GaussianProcessClassifier(1.0 * RBF(1.0), warm_start=True),\r\n",
    "    # DecisionTreeClassifier(max_depth=10),\r\n",
    "    RandomForestClassifier(max_depth=30, n_estimators=80),\r\n",
    "    MLPClassifier(alpha=2),\r\n",
    "    # AdaBoostClassifier(),\r\n",
    "    # GaussianNB(),\r\n",
    "    # QuadraticDiscriminantAnalysis()\r\n",
    "    ]"
   ],
   "outputs": [],
   "metadata": {}
  },
  {
   "cell_type": "code",
   "execution_count": 41,
   "source": [
    "i=1\r\n",
    "plt.figure(figsize=(20,4))\r\n",
    "for name, clf in zip(names, classifiers):\r\n",
    "        ax = plt.subplot(1 , len(classifiers) + 1, i)\r\n",
    "        \r\n",
    "\r\n",
    "        start = time.time()\r\n",
    "        # fit the model using the training set\r\n",
    "        clf.fit(X_train, y_train)\r\n",
    "        end = time.time()\r\n",
    "        # compute the mean accuracy of the classifier\r\n",
    "        # score = clf.score(X_test, y_test)\r\n",
    "        end2 = time.time()\r\n",
    "        # compute ROC curve\r\n",
    "        # y_test_pred = clf.predict_proba(X_test)[:, 1]\r\n",
    "\r\n",
    "        y_pred=clf.predict(X_test)\r\n",
    "\r\n",
    "        # Classification results on test set\r\n",
    "        from sklearn import metrics\r\n",
    "        accuracy = metrics.accuracy_score(y_test, y_pred)\r\n",
    "        print(\"Accuracy: {:.2f}\".format(accuracy))\r\n",
    "\r\n",
    "        from sklearn.metrics import confusion_matrix, classification_report\r\n",
    "        cm=confusion_matrix(y_test,y_pred)\r\n",
    "        print('Confusion Matrix: \\n', cm)\r\n",
    "        print(classification_report(y_test, y_pred, target_names=class_names))\r\n",
    "        \r\n",
    "        print(name,str(end-start),str(end2 - end))\r\n",
    "\r\n",
    "        i += 1"
   ],
   "outputs": [
    {
     "output_type": "stream",
     "name": "stdout",
     "text": [
      "Accuracy: 0.60\n",
      "Confusion Matrix: \n",
      " [[4078  470  160   97   45  104]\n",
      " [ 912 2824  437  297  179  270]\n",
      " [ 450  829 2168  616  335  479]\n",
      " [ 229  486  496 2553  460  738]\n",
      " [ 177  385  347  659 2305 1064]\n",
      " [  19   95  165  452  452 3741]]\n",
      "              precision    recall  f1-score   support\n",
      "\n",
      "        IRON       0.70      0.82      0.75      4954\n",
      "      BRONZE       0.55      0.57      0.56      4919\n",
      "      SILVER       0.57      0.44      0.50      4877\n",
      "        GOLD       0.55      0.51      0.53      4962\n",
      "    PLATINUM       0.61      0.47      0.53      4937\n",
      "     DIAMOND       0.58      0.76      0.66      4924\n",
      "\n",
      "    accuracy                           0.60     29573\n",
      "   macro avg       0.59      0.60      0.59     29573\n",
      "weighted avg       0.59      0.60      0.59     29573\n",
      "\n",
      "RF 18.067216634750366 0.0\n",
      "Accuracy: 0.17\n",
      "Confusion Matrix: \n",
      " [[   0    0    0    0    0 4954]\n",
      " [   0    0    0    0    0 4919]\n",
      " [   0    0    0    0    0 4877]\n",
      " [   0    0    0    0    0 4962]\n",
      " [   0    0    0    0    0 4937]\n",
      " [   0    0    0    0    0 4924]]\n",
      "              precision    recall  f1-score   support\n",
      "\n",
      "        IRON       0.00      0.00      0.00      4954\n",
      "      BRONZE       0.00      0.00      0.00      4919\n",
      "      SILVER       0.00      0.00      0.00      4877\n",
      "        GOLD       0.00      0.00      0.00      4962\n",
      "    PLATINUM       0.00      0.00      0.00      4937\n",
      "     DIAMOND       0.17      1.00      0.29      4924\n",
      "\n",
      "    accuracy                           0.17     29573\n",
      "   macro avg       0.03      0.17      0.05     29573\n",
      "weighted avg       0.03      0.17      0.05     29573\n",
      "\n",
      "Neural Net 10.979082107543945 0.0\n"
     ]
    },
    {
     "output_type": "stream",
     "name": "stderr",
     "text": [
      "C:\\Users\\matia\\anaconda3\\lib\\site-packages\\sklearn\\metrics\\_classification.py:1221: UndefinedMetricWarning: Precision and F-score are ill-defined and being set to 0.0 in labels with no predicted samples. Use `zero_division` parameter to control this behavior.\n",
      "  _warn_prf(average, modifier, msg_start, len(result))\n"
     ]
    },
    {
     "output_type": "display_data",
     "data": {
      "text/plain": [
       "<Figure size 1440x288 with 2 Axes>"
      ],
      "image/png": "[encoded data removed]"
     },
     "metadata": {
      "needs_background": "light"
     }
    }
   ],
   "metadata": {}
  },
  {
   "cell_type": "markdown",
   "source": [
    "i=1\r\n",
    "plt.figure(figsize=(20,4))\r\n",
    "for name, clf in zip(names, classifiers):\r\n",
    "        ax = plt.subplot(1 , len(classifiers) + 1, i)\r\n",
    "        \r\n",
    "\r\n",
    "        start = time.time()\r\n",
    "        # fit the model using the training set\r\n",
    "        clf.fit(X_train, y_train)\r\n",
    "        end = time.time()\r\n",
    "        # compute the mean accuracy of the classifier\r\n",
    "        score = clf.score(X_test, y_test)\r\n",
    "        end2 = time.time()\r\n",
    "        compute ROC curve\r\n",
    "        y_test_pred = clf.predict_proba(X_test)[:, 1]\r\n",
    "        fpr, tpr, thresholds = metrics.roc_curve(y_test, y_test_pred, pos_label=1)\r\n",
    "        auc = metrics.roc_auc_score(y_test, y_test_pred, multi_class='ovo')\r\n",
    "        acc = metrics.accuracy_score(y_test, y_test_pred >= 0.5, multi_class='ovo')\r\n",
    "        f1 = metrics.f1_score(y_test, y_test_pred >= 0.5, multi_class='ovo')\r\n",
    "        ax.set_xlim(-.05, 1.05)\r\n",
    "        ax.set_ylim(-.05, 1.05)\r\n",
    "        ax.set_xticks(())\r\n",
    "        ax.set_yticks(())\r\n",
    "        ax.text(0.95, 0.3, \"Acc: %.2f\" % acc, ha = 'right')\r\n",
    "        ax.text(0.95, 0.2, \"F1-score: %.2f\" % f1, ha = 'right')\r\n",
    "        ax.text(0.95, 0.1, \"AUC: %.2f\" % auc, ha = 'right')\r\n",
    "        ax.plot(fpr, tpr, lw = 5)\r\n",
    "        idx = np.argmin(np.abs(thresholds - 0.5))\r\n",
    "        ax.scatter(fpr[idx], tpr[idx], marker = 'o', c = 'r')\r\n",
    "        print(name,str(end-start),str(end2 - end))\r\n",
    "        counter \r\n",
    "        i += 1"
   ],
   "metadata": {}
  }
 ],
 "metadata": {
  "interpreter": {
   "hash": "fd482b7cd4264c5ef4566bc86a2ab8bd2bb23c50b3c7d4b1f3e5fd5095eeae80"
  },
  "kernelspec": {
   "name": "python3",
   "display_name": "Python 3.8.5 64-bit ('base': conda)"
  },
  "language_info": {
   "name": "python",
   "version": "3.8.5",
   "mimetype": "text/x-python",
   "codemirror_mode": {
    "name": "ipython",
    "version": 3
   },
   "pygments_lexer": "ipython3",
   "nbconvert_exporter": "python",
   "file_extension": ".py"
  }
 },
 "nbformat": 4,
 "nbformat_minor": 1
}